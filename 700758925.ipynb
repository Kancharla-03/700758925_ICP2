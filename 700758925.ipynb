{
  "nbformat": 4,
  "nbformat_minor": 0,
  "metadata": {
    "colab": {
      "provenance": []
    },
    "kernelspec": {
      "name": "python3",
      "display_name": "Python 3"
    },
    "language_info": {
      "name": "python"
    }
  },
  "cells": [
    {
      "cell_type": "code",
      "execution_count": 3,
      "metadata": {
        "colab": {
          "base_uri": "https://localhost:8080/"
        },
        "id": "SVx75WHMCVS5",
        "outputId": "1cbc357a-6bd5-471b-dfe1-3c98a034282b"
      },
      "outputs": [
        {
          "output_type": "stream",
          "name": "stdout",
          "text": [
            "Enter first name: kancharla\n",
            "Enter last name: tanmaye\n",
            "Full name: kancharla tanmaye\n",
            "Alternative string: knhratnae\n"
          ]
        }
      ],
      "source": [
        "def fullname(first_name, last_name):\n",
        "    return f\"{first_name} {last_name}\"\n",
        "\n",
        "def string_alternative(full_name):\n",
        "    return full_name[::2]\n",
        "\n",
        "first_name = input(\"Enter first name: \")\n",
        "last_name = input(\"Enter last name: \")\n",
        "\n",
        "full_name = fullname(first_name, last_name)\n",
        "\n",
        "print(\"Full name:\", full_name)\n",
        "\n",
        "\n",
        "alternative_string = string_alternative(full_name)\n",
        "print(\"Alternative string:\", alternative_string)"
      ]
    },
    {
      "cell_type": "code",
      "source": [
        "from google.colab import drive\n",
        "drive.mount('/content/drive')\n",
        "\n",
        "input_path = '/content/drive/MyDrive/input.txt'\n",
        "output_path = '/content/drive/MyDrive/output.txt'\n",
        "\n",
        "def count_words(input_path, output_path):\n",
        "    try:\n",
        "        with open(input_path, 'r') as file:\n",
        "            text = file.read()\n",
        "            words = text.split()\n",
        "            word_count = len(words)\n",
        "\n",
        "            word_counts = {}\n",
        "            for word in words:\n",
        "                if word in word_counts:\n",
        "                    word_counts[word] += 1\n",
        "                else:\n",
        "                    word_counts[word] = 1\n",
        "\n",
        "            with open(output_path, 'w') as out_file:\n",
        "                out_file.write(\"Word counts:\\n\")\n",
        "                for word, count in word_counts.items():\n",
        "                    out_file.write(f\"{word}: {count}\\n\")\n",
        "\n",
        "            print(f\"Output written to {output_path}\")\n",
        "\n",
        "    except FileNotFoundError:\n",
        "        print(f\"Error: The file '{input_path}' was not found.\")\n",
        "\n",
        "count_words(input_path, output_path)"
      ],
      "metadata": {
        "colab": {
          "base_uri": "https://localhost:8080/"
        },
        "id": "x571pxrfCqIT",
        "outputId": "b6f85db3-69c4-4721-9d7b-86ce66930f3f"
      },
      "execution_count": 4,
      "outputs": [
        {
          "output_type": "stream",
          "name": "stdout",
          "text": [
            "Mounted at /content/drive\n",
            "Output written to /content/drive/MyDrive/output.txt\n"
          ]
        }
      ]
    },
    {
      "cell_type": "code",
      "source": [
        "def convert_heights_nested():\n",
        "    heights_inches = []\n",
        "    heights_cm = []\n",
        "\n",
        "    while True:\n",
        "        height_str = input(\"Enter height in inches: \")\n",
        "        if height_str.lower() == 'exit':\n",
        "            break\n",
        "        try:\n",
        "            height_inches = float(height_str)\n",
        "            if height_inches < 0:\n",
        "                print(\"Height should be a positive number.\")\n",
        "            else:\n",
        "                heights_inches.append(height_inches)\n",
        "        except ValueError:\n",
        "            print(\"Invalid input. Please enter a valid number or 'done'.\")\n",
        "\n",
        "\n",
        "    for height in heights_inches:\n",
        "        height_cm = height * 2.54\n",
        "        heights_cm.append(height_cm)\n",
        "\n",
        "\n",
        "    print(\"\\nHeights in Inches:\", heights_inches)\n",
        "    print(\"Heights in Centimeters:\", heights_cm)\n",
        "\n",
        "\n",
        "convert_heights_nested()"
      ],
      "metadata": {
        "colab": {
          "base_uri": "https://localhost:8080/"
        },
        "id": "M6kT-ydnCvje",
        "outputId": "ffce6349-1d45-4d9f-9c22-ae6fe39363d1"
      },
      "execution_count": 5,
      "outputs": [
        {
          "output_type": "stream",
          "name": "stdout",
          "text": [
            "Enter height in inches: 20\n",
            "Enter height in inches: 30\n",
            "Enter height in inches: 40\n",
            "Enter height in inches: exit\n",
            "\n",
            "Heights in Inches: [20.0, 30.0, 40.0]\n",
            "Heights in Centimeters: [50.8, 76.2, 101.6]\n"
          ]
        }
      ]
    },
    {
      "cell_type": "code",
      "source": [
        "def convert_heights_comprehension():\n",
        "    heights_inches = []\n",
        "\n",
        "\n",
        "    while True:\n",
        "        height_str = input(\"Enter height in inches: \")\n",
        "        if height_str.lower() == 'exit':\n",
        "            break\n",
        "        try:\n",
        "            height_inches = float(height_str)\n",
        "            if height_inches < 0:\n",
        "                print(\"Height should be a positive number.\")\n",
        "            else:\n",
        "                heights_inches.append(height_inches)\n",
        "        except ValueError:\n",
        "            print(\"Invalid input. Please enter a valid number or 'done'.\")\n",
        "\n",
        "\n",
        "    heights_cm = [height * 2.54 for height in heights_inches]\n",
        "\n",
        "\n",
        "    print(\"\\nHeights in Inches:\", heights_inches)\n",
        "    print(\"Heights in Centimeters:\", heights_cm)\n",
        "\n",
        "\n",
        "convert_heights_comprehension()"
      ],
      "metadata": {
        "colab": {
          "base_uri": "https://localhost:8080/"
        },
        "id": "6fyk3OUhC5rk",
        "outputId": "c8d967dc-3a1a-41c3-9991-97992fee1c1b"
      },
      "execution_count": 6,
      "outputs": [
        {
          "output_type": "stream",
          "name": "stdout",
          "text": [
            "Enter height in inches: 20\n",
            "Enter height in inches: 0\n",
            "Enter height in inches: 10\n",
            "Enter height in inches: exit\n",
            "\n",
            "Heights in Inches: [20.0, 0.0, 10.0]\n",
            "Heights in Centimeters: [50.8, 0.0, 25.4]\n"
          ]
        }
      ]
    }
  ]
}